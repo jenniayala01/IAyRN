{
  "nbformat": 4,
  "nbformat_minor": 0,
  "metadata": {
    "colab": {
      "provenance": []
    },
    "kernelspec": {
      "name": "python3",
      "display_name": "Python 3"
    },
    "language_info": {
      "name": "python"
    }
  },
  "cells": [
    {
      "cell_type": "markdown",
      "source": [
        "\"Ejercicios en Python 1\"\n",
        "JENNIFER YARETZY AYALA VAZQUEZ \n",
        "1896473 N1 "
      ],
      "metadata": {
        "id": "tUHgX6wChG6C"
      }
    },
    {
      "cell_type": "code",
      "execution_count": 1,
      "metadata": {
        "colab": {
          "base_uri": "https://localhost:8080/"
        },
        "id": "xeWAn1oqLC-p",
        "outputId": "648d6c4c-579e-40bc-f0c5-ce590caa9b17"
      },
      "outputs": [
        {
          "output_type": "stream",
          "name": "stdout",
          "text": [
            "Hola,¿Cual es tu nombre? Ana\n",
            "Lo siento,no te puedo saludar\n"
          ]
        }
      ],
      "source": [
        "\"\"\"Ejercicio1\n",
        "Escribe un programa que le pida al usario por su nombre , excepto si se llama \"Ana\",\"Juan\", y \"Pedro\".\"\"\"\n",
        "Nombre = input(\"Hola,¿Cual es tu nombre? \") \n",
        "if Nombre == \"Ana\" or Nombre==\"Juan\" or Nombre==\"Pedro\": \n",
        "  print(\"Lo siento,no te puedo saludar\")\n",
        "else:\n",
        "  print(\"Hola \" + Nombre) "
      ]
    },
    {
      "cell_type": "code",
      "execution_count": 2,
      "metadata": {
        "colab": {
          "base_uri": "https://localhost:8080/"
        },
        "outputId": "fac619d9-d1aa-45f1-ec18-47d25059e6c2",
        "id": "Jlx7eBFOWIkf"
      },
      "outputs": [
        {
          "output_type": "stream",
          "name": "stdout",
          "text": [
            "Manzanas\n",
            "('Manzanas', 'Tortillas', 'Huevo')\n"
          ]
        }
      ],
      "source": [
        "\"\"\"Ejercicio2\n",
        "Escribe una funcion que regrese el ultimo elemento de una lista y que revierta el orden de la lista e imprima la lista revertida.\"\"\" \n",
        "\"\"\"Lista de super\"\"\" \n",
        "Articulos = (\"Huevo\",\"Tortillas\",\"Manzanas\")\n",
        "print(Articulos[-1])\n",
        "lista_invertida = Articulos[::-1]\n",
        "print(lista_invertida) "
      ]
    },
    {
      "cell_type": "code",
      "execution_count": 3,
      "metadata": {
        "colab": {
          "base_uri": "https://localhost:8080/"
        },
        "outputId": "679d5e69-508e-48b0-c3a7-6d9075efb0cc",
        "id": "hAz8XvlYY1Xp"
      },
      "outputs": [
        {
          "output_type": "stream",
          "name": "stdout",
          "text": [
            "Hola\n",
            "a\n",
            "todos\n",
            "esto\n",
            "es\n",
            "un\n",
            "marco\n"
          ]
        }
      ],
      "source": [
        "\"\"\"Ejercicio3\n",
        "Escribir una funcion que tome una lista de strings y los imrpima linea por linea en un marco rectangular.\"\"\"\n",
        "Sentencia = (\"Hola\", \"a\",\"todos\",\"esto\",\"es\",\"un\",\"marco\")\n",
        "for x in Sentencia:\n",
        "  print(x) "
      ]
    }
  ]
}